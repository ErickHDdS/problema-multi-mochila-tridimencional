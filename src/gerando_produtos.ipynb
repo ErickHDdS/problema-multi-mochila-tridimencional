{
  "cells": [
    {
      "attachments": {},
      "cell_type": "markdown",
      "metadata": {
        "id": "A5hRiCvs_EVn"
      },
      "source": [
        "# Gerando a tabela de container"
      ]
    },
    {
      "cell_type": "code",
      "execution_count": 1,
      "metadata": {
        "id": "BKRGy1hl-iYE"
      },
      "outputs": [],
      "source": [
        "# Importando as bibliotecas\n",
        "import random\n",
        "import openpyxl\n",
        "\n",
        "# Cria um novo arquivo XLSX\n",
        "workbook = openpyxl.Workbook()\n",
        "sheet = workbook.active\n",
        "\n",
        "# Adiciona os cabeçalhos das colunas\n",
        "headers = ['weight_capacity', 'volume_capacity']\n",
        "sheet.append(headers)\n",
        "\n",
        "# Inserindo as informações dos conteiners\n",
        "def insertConteiner(weight_capacity, volume_capacity):\n",
        "    conteiner = [weight_capacity, volume_capacity]\n",
        "    sheet.append(conteiner)\n",
        "\n",
        "insertConteiner(28250, 33.178945)\n",
        "insertConteiner(28600, 76.2864896)\n",
        "insertConteiner(28750, 67.6342784)\n",
        "\n",
        "# Salva o arquivo XLSX\n",
        "workbook.save(\"../data/conteiners.xlsx\")"
      ]
    },
    {
      "attachments": {},
      "cell_type": "markdown",
      "metadata": {
        "id": "evhlGYJe_IG5"
      },
      "source": [
        "# Criando os produtos"
      ]
    },
    {
      "cell_type": "code",
      "execution_count": 2,
      "metadata": {
        "id": "h2cZBsFl_t0P"
      },
      "outputs": [],
      "source": [
        "numeroProdutos = 10000 # numero de produtos gerados na tabela"
      ]
    },
    {
      "cell_type": "code",
      "execution_count": 3,
      "metadata": {
        "id": "-J6n89qR_MX_"
      },
      "outputs": [],
      "source": [
        "# Importando as bibliotecas\n",
        "import random\n",
        "import openpyxl\n",
        "\n",
        "# Cria um novo arquivo XLSX\n",
        "workbook = openpyxl.Workbook()\n",
        "sheet = workbook.active\n",
        "\n",
        "# Adiciona os cabeçalhos das colunas\n",
        "headers = ['volume', 'value', 'weight', 'type']\n",
        "types = ['food', 'pesticides', 'cleaning', 'clothing', 'appliances']\n",
        "sheet.append(headers)\n",
        "\n",
        "# Gera informações aleatórias para n produtos\n",
        "for _ in range(numeroProdutos):\n",
        "    volume = round(random.uniform(1.0, 10), 2)\n",
        "    value = round(random.uniform(1.0, 100.0), 2)\n",
        "    weight = round(random.uniform(1.0, 100.0), 2)\n",
        "    type = random.choices(types)[0]\n",
        "    product = [volume, value, weight, type]\n",
        "    sheet.append(product)\n",
        "\n",
        "# Salva o arquivo XLSX\n",
        "workbook.save('../data/products_{}.xlsx'.format(numeroProdutos))"
      ]
    },
    {
      "attachments": {},
      "cell_type": "markdown",
      "metadata": {
        "id": "DsClD5hC_gL6"
      },
      "source": [
        "#"
      ]
    }
  ],
  "metadata": {
    "colab": {
      "provenance": []
    },
    "kernelspec": {
      "display_name": "Python 3",
      "name": "python3"
    },
    "language_info": {
      "codemirror_mode": {
        "name": "ipython",
        "version": 3
      },
      "file_extension": ".py",
      "mimetype": "text/x-python",
      "name": "python",
      "nbconvert_exporter": "python",
      "pygments_lexer": "ipython3",
      "version": "3.11.4"
    }
  },
  "nbformat": 4,
  "nbformat_minor": 0
}
